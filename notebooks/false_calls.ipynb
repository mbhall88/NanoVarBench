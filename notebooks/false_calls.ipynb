{
 "cells": [
  {
   "cell_type": "code",
   "execution_count": 9,
   "metadata": {},
   "outputs": [],
   "source": [
    "import cyvcf2\n",
    "import sys"
   ]
  },
  {
   "cell_type": "code",
   "execution_count": 23,
   "metadata": {},
   "outputs": [],
   "source": [
    "def extract_decision(record: cyvcf2.Variant) -> str:\n",
    "    \"\"\"Extract the decision from the FORMAT/BD fields.\n",
    "    It can take the values TP, FP, FN, or .\n",
    "    \"\"\"\n",
    "    bd = record.format(\"BD\")\n",
    "    # bd is a numpy array, convert to list\n",
    "    bd = bd.tolist()\n",
    "    truth_decision = bd[0]\n",
    "    query_decision = bd[1]\n",
    "\n",
    "    if truth_decision == \".\":\n",
    "        if query_decision == \".\":\n",
    "            print(record, file=sys.stderr)\n",
    "            raise ValueError(\"Both truth and query decisions are missing\")\n",
    "        return query_decision\n",
    "    else:\n",
    "        return truth_decision"
   ]
  },
  {
   "cell_type": "code",
   "execution_count": 18,
   "metadata": {},
   "outputs": [],
   "source": [
    "p = \"/data/scratch/projects/punim2009/NanoVarBench/results/assess/mutref/illumina/ATCC_17802__202309/ATCC_17802__202309.summary.annotated.vcf.gz\""
   ]
  },
  {
   "cell_type": "code",
   "execution_count": 21,
   "metadata": {},
   "outputs": [],
   "source": [
    "vcf = cyvcf2.VCF(p)"
   ]
  },
  {
   "cell_type": "code",
   "execution_count": 24,
   "metadata": {},
   "outputs": [],
   "source": [
    "data = []\n",
    "for record in vcf:\n",
    "    decision = extract_decision(record)\n",
    "    dist = record.INFO.get(\"DIST\")\n",
    "    if dist is None:\n",
    "        print(record, file=sys.stderr)\n",
    "        raise ValueError(\"No DIST field found in the record\")\n",
    "    density = record.INFO.get(\"DEN\")\n",
    "    if density is None:\n",
    "        print(record, file=sys.stderr)\n",
    "        raise ValueError(\"No DEN field found in the record\")\n",
    "    data.append((record.CHROM, record.POS, decision, dist, density))"
   ]
  },
  {
   "cell_type": "code",
   "execution_count": 25,
   "metadata": {},
   "outputs": [
    {
     "data": {
      "text/plain": [
       "[('chromosome_1', 255698, 'TP', 60780, 15),\n",
       " ('chromosome_1', 255698, 'TP', 60780, 15),\n",
       " ('chromosome_1', 255699, 'TP', 60781, 16)]"
      ]
     },
     "execution_count": 25,
     "metadata": {},
     "output_type": "execute_result"
    }
   ],
   "source": []
  },
  {
   "cell_type": "code",
   "execution_count": null,
   "metadata": {},
   "outputs": [],
   "source": []
  }
 ],
 "metadata": {
  "kernelspec": {
   "display_name": "NanoVarBench",
   "language": "python",
   "name": "python3"
  },
  "language_info": {
   "codemirror_mode": {
    "name": "ipython",
    "version": 3
   },
   "file_extension": ".py",
   "mimetype": "text/x-python",
   "name": "python",
   "nbconvert_exporter": "python",
   "pygments_lexer": "ipython3",
   "version": "3.10.13"
  }
 },
 "nbformat": 4,
 "nbformat_minor": 2
}
