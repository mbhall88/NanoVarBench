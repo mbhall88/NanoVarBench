{
 "cells": [
  {
   "cell_type": "code",
   "execution_count": 1,
   "metadata": {},
   "outputs": [],
   "source": [
    "from pathlib import Path\n",
    "import pandas as pd\n",
    "import numpy as np\n",
    "import matplotlib.pyplot as plt\n",
    "import seaborn as sns\n"
   ]
  },
  {
   "cell_type": "code",
   "execution_count": 2,
   "metadata": {},
   "outputs": [],
   "source": [
    "# colourblind-friendly palette from colour universal design (CUD)\n",
    "# https://jfly.uni-koeln.de/color/\n",
    "# https://nanx.me/oneclust/reference/cud.html\n",
    "named_colors = {\n",
    "    \"black\": \"#000000\",\n",
    "    \"orange\": \"#e69f00\",\n",
    "    \"skyblue\": \"#56b4e9\",\n",
    "    \"bluish green\": \"#009e73\",\n",
    "    \"yellow\": \"#f0e442\",\n",
    "    \"blue\": \"#0072b2\",\n",
    "    \"vermilion\": \"#d55e00\",\n",
    "    \"reddish purple\": \"#cc79a7\",\n",
    "}\n",
    "cud_palette = list(named_colors.values())\n",
    "sns.set_theme(style=\"whitegrid\")\n",
    "\n",
    "def cud(n: int = len(cud_palette), start: int = 0) -> list[str]:\n",
    "    remainder = cud_palette[:start]\n",
    "    palette = cud_palette[start:] + remainder\n",
    "    return palette[:n]"
   ]
  },
  {
   "cell_type": "code",
   "execution_count": 3,
   "metadata": {},
   "outputs": [],
   "source": [
    "frames = []\n",
    "for p in Path(\"../results/assess/mutref\").rglob(\"*.precision-recall.tsv\"):\n",
    "    df = pd.read_csv(p, sep=\"\\t\")\n",
    "    df[\"sample\"] = p.parent.name\n",
    "    if \"without_repetitive_regions\" in p.name:\n",
    "        df[\"mask_repeats\"] = True\n",
    "    else:\n",
    "        df[\"mask_repeats\"] = False\n",
    "    if \"illumina\" in str(p):\n",
    "        df[\"caller\"] = \"illumina\"\n",
    "        df[\"depth\"] = \"illumina\"\n",
    "        df[\"mode\"] = \"simplex\"\n",
    "        df[\"version\"] = \"illumina\"\n",
    "        df[\"model\"] = \"illumina\"\n",
    "    else:\n",
    "        df[\"caller\"] = p.parts[-7]\n",
    "        df[\"depth\"] = int(p.parts[-6][:-1])\n",
    "        df[\"mode\"] = p.parts[-5]\n",
    "        df[\"version\"] = p.parts[-4]\n",
    "        df[\"model\"] = p.parts[-3].split(\"_\")[-1].split(\"@\")[0]\n",
    "    frames.append(df)\n",
    "    # duplicate Illumina as duplex also\n",
    "    if \"illumina\" in str(p):\n",
    "        df2 = df.copy()\n",
    "        df2[\"caller\"] = \"illumina\"\n",
    "        df2[\"depth\"] = \"illumina\"\n",
    "        df2[\"mode\"] = \"duplex\"\n",
    "        df2[\"version\"] = \"illumina\"\n",
    "        df2[\"model\"] = \"illumina\"\n",
    "        frames.append(df2)"
   ]
  },
  {
   "cell_type": "code",
   "execution_count": 4,
   "metadata": {},
   "outputs": [
    {
     "ename": "",
     "evalue": "",
     "output_type": "error",
     "traceback": [
      "\u001b[1;31mThe Kernel crashed while executing code in the current cell or a previous cell. \n",
      "\u001b[1;31mPlease review the code in the cell(s) to identify a possible cause of the failure. \n",
      "\u001b[1;31mClick <a href='https://aka.ms/vscodeJupyterKernelCrash'>here</a> for more info. \n",
      "\u001b[1;31mView Jupyter <a href='command:jupyter.viewOutput'>log</a> for further details."
     ]
    }
   ],
   "source": [
    "pr_df = pd.concat(frames)\n",
    "pr_df.reset_index(inplace=True)\n",
    "pr_df.head()"
   ]
  },
  {
   "cell_type": "code",
   "execution_count": null,
   "metadata": {},
   "outputs": [],
   "source": []
  }
 ],
 "metadata": {
  "kernelspec": {
   "display_name": "NanoVarBench",
   "language": "python",
   "name": "python3"
  },
  "language_info": {
   "codemirror_mode": {
    "name": "ipython",
    "version": 3
   },
   "file_extension": ".py",
   "mimetype": "text/x-python",
   "name": "python",
   "nbconvert_exporter": "python",
   "pygments_lexer": "ipython3",
   "version": "3.10.13"
  }
 },
 "nbformat": 4,
 "nbformat_minor": 2
}
